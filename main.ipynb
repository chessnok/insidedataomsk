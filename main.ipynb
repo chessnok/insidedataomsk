{
 "cells": [
  {
   "metadata": {
    "ExecuteTime": {
     "end_time": "2024-09-07T01:56:04.484546Z",
     "start_time": "2024-09-07T01:56:04.468753Z"
    }
   },
   "cell_type": "code",
   "source": [
    "import ee\n",
    "import pandas as pd\n",
    "import matplotlib.pyplot as plt\n",
    "import rasterio"
   ],
   "id": "10d7546b32f3df02",
   "outputs": [
    {
     "data": {
      "text/plain": [
       "<IPython.core.display.HTML object>"
      ],
      "text/html": [
       "\n",
       "            <style>\n",
       "                .geemap-dark {\n",
       "                    --jp-widgets-color: white;\n",
       "                    --jp-widgets-label-color: white;\n",
       "                    --jp-ui-font-color1: white;\n",
       "                    --jp-layout-color2: #454545;\n",
       "                    background-color: #383838;\n",
       "                }\n",
       "\n",
       "                .geemap-dark .jupyter-button {\n",
       "                    --jp-layout-color3: #383838;\n",
       "                }\n",
       "\n",
       "                .geemap-colab {\n",
       "                    background-color: var(--colab-primary-surface-color, white);\n",
       "                }\n",
       "\n",
       "                .geemap-colab .jupyter-button {\n",
       "                    --jp-layout-color3: var(--colab-primary-surface-color, white);\n",
       "                }\n",
       "            </style>\n",
       "            "
      ]
     },
     "metadata": {},
     "output_type": "display_data"
    }
   ],
   "execution_count": 65
  },
  {
   "metadata": {
    "ExecuteTime": {
     "end_time": "2024-09-07T01:56:08.543894Z",
     "start_time": "2024-09-07T01:56:06.590474Z"
    }
   },
   "cell_type": "code",
   "source": [
    "# Аутентификация в Google Earth Engine\n",
    "ee.Authenticate()\n",
    "ee.Initialize()"
   ],
   "id": "d09679b64b28b3ff",
   "outputs": [
    {
     "data": {
      "text/plain": [
       "<IPython.core.display.HTML object>"
      ],
      "text/html": [
       "\n",
       "            <style>\n",
       "                .geemap-dark {\n",
       "                    --jp-widgets-color: white;\n",
       "                    --jp-widgets-label-color: white;\n",
       "                    --jp-ui-font-color1: white;\n",
       "                    --jp-layout-color2: #454545;\n",
       "                    background-color: #383838;\n",
       "                }\n",
       "\n",
       "                .geemap-dark .jupyter-button {\n",
       "                    --jp-layout-color3: #383838;\n",
       "                }\n",
       "\n",
       "                .geemap-colab {\n",
       "                    background-color: var(--colab-primary-surface-color, white);\n",
       "                }\n",
       "\n",
       "                .geemap-colab .jupyter-button {\n",
       "                    --jp-layout-color3: var(--colab-primary-surface-color, white);\n",
       "                }\n",
       "            </style>\n",
       "            "
      ]
     },
     "metadata": {},
     "output_type": "display_data"
    }
   ],
   "execution_count": 66
  },
  {
   "metadata": {
    "ExecuteTime": {
     "end_time": "2024-09-07T01:56:11.443944Z",
     "start_time": "2024-09-07T01:56:10.345206Z"
    }
   },
   "cell_type": "code",
   "source": "df = pd.read_csv(\"modis_2023_Russian_Federation.csv\")",
   "id": "73f2a9f335661671",
   "outputs": [
    {
     "data": {
      "text/plain": [
       "<IPython.core.display.HTML object>"
      ],
      "text/html": [
       "\n",
       "            <style>\n",
       "                .geemap-dark {\n",
       "                    --jp-widgets-color: white;\n",
       "                    --jp-widgets-label-color: white;\n",
       "                    --jp-ui-font-color1: white;\n",
       "                    --jp-layout-color2: #454545;\n",
       "                    background-color: #383838;\n",
       "                }\n",
       "\n",
       "                .geemap-dark .jupyter-button {\n",
       "                    --jp-layout-color3: #383838;\n",
       "                }\n",
       "\n",
       "                .geemap-colab {\n",
       "                    background-color: var(--colab-primary-surface-color, white);\n",
       "                }\n",
       "\n",
       "                .geemap-colab .jupyter-button {\n",
       "                    --jp-layout-color3: var(--colab-primary-surface-color, white);\n",
       "                }\n",
       "            </style>\n",
       "            "
      ]
     },
     "metadata": {},
     "output_type": "display_data"
    }
   ],
   "execution_count": 67
  },
  {
   "metadata": {
    "ExecuteTime": {
     "end_time": "2024-09-07T01:56:20.449638Z",
     "start_time": "2024-09-07T01:56:20.430264Z"
    }
   },
   "cell_type": "code",
   "source": [
    "def get_sentinel_image(lat, lon, start_date, end_date):\n",
    "    point = ee.Geometry.Point([lon, lat])\n",
    "    region = point.buffer(5000).bounds()\n",
    "    \n",
    "    collection = ee.ImageCollection('COPERNICUS/S2') \\\n",
    "        .filterDate(start_date, end_date) \\\n",
    "        .filterBounds(region) \\\n",
    "        .filter(ee.Filter.lt('CLOUDY_PIXEL_PERCENTAGE', 20))\n",
    "    \n",
    "    image = collection.sort('CLOUDY_PIXEL_PERCENTAGE').first()\n",
    "    return image.clip(region)\n",
    "\n",
    "def get_pre_post_images(fire_lat, fire_lon, fire_date):\n",
    "    fire_date_ee = ee.Date(fire_date)\n",
    "    pre_fire_image = get_sentinel_image(fire_lat, fire_lon, fire_date_ee.advance(-1, 'month'), fire_date_ee)\n",
    "    post_fire_image = get_sentinel_image(fire_lat, fire_lon, fire_date_ee, fire_date_ee.advance(1, 'month'))\n",
    "    return pre_fire_image, post_fire_image"
   ],
   "id": "429663f0dfa02d67",
   "outputs": [
    {
     "data": {
      "text/plain": [
       "<IPython.core.display.HTML object>"
      ],
      "text/html": [
       "\n",
       "            <style>\n",
       "                .geemap-dark {\n",
       "                    --jp-widgets-color: white;\n",
       "                    --jp-widgets-label-color: white;\n",
       "                    --jp-ui-font-color1: white;\n",
       "                    --jp-layout-color2: #454545;\n",
       "                    background-color: #383838;\n",
       "                }\n",
       "\n",
       "                .geemap-dark .jupyter-button {\n",
       "                    --jp-layout-color3: #383838;\n",
       "                }\n",
       "\n",
       "                .geemap-colab {\n",
       "                    background-color: var(--colab-primary-surface-color, white);\n",
       "                }\n",
       "\n",
       "                .geemap-colab .jupyter-button {\n",
       "                    --jp-layout-color3: var(--colab-primary-surface-color, white);\n",
       "                }\n",
       "            </style>\n",
       "            "
      ]
     },
     "metadata": {},
     "output_type": "display_data"
    }
   ],
   "execution_count": 71
  },
  {
   "metadata": {
    "ExecuteTime": {
     "end_time": "2024-09-07T01:56:22.374659Z",
     "start_time": "2024-09-07T01:56:22.341839Z"
    }
   },
   "cell_type": "code",
   "source": [
    "def get_image_download_url(image, region, scale):\n",
    "    \"\"\"\n",
    "    Получает URL для скачивания изображения из GEE.\n",
    "    \"\"\"\n",
    "    url = image.getDownloadURL({\n",
    "        'scale': scale,\n",
    "        'region': region,\n",
    "        'format': 'GeoTIFF'\n",
    "    })\n",
    "    return url\n",
    "\n",
    "def download_image(url, file_name):\n",
    "    \"\"\"\n",
    "    Загружает изображение по URL и сохраняет его локально.\n",
    "    \"\"\"\n",
    "    import requests\n",
    "    \n",
    "    response = requests.get(url, stream=True)\n",
    "    if response.status_code == 200:\n",
    "        with open(file_name, 'wb') as file:\n",
    "            for chunk in response.iter_content(chunk_size=8192):\n",
    "                file.write(chunk)\n",
    "        print(f\"Изображение сохранено как {file_name}\")\n",
    "    else:\n",
    "        print(f\"Ошибка загрузки: {response.status_code}\")\n",
    "\n",
    "def save_image_locally(image, region, file_name, scale=30):\n",
    "    \"\"\"\n",
    "    Сохраняет изображение из GEE локально.\n",
    "    \"\"\"\n",
    "    url = get_image_download_url(image, region, scale)\n",
    "    print(url)\n",
    "    download_image(url, file_name)\n",
    "\n",
    "def plot_images(pre_image_path, post_image_path):\n",
    "    \"\"\"\n",
    "    Отображает снимки до и после пожара.\n",
    "    \"\"\"\n",
    "    with rasterio.open(pre_image_path) as pre_img:\n",
    "        pre_image = pre_img.read(1)\n",
    "    \n",
    "    with rasterio.open(post_image_path) as post_img:\n",
    "        post_image = post_img.read(1)\n",
    "    \n",
    "    fig, ax = plt.subplots(1, 2, figsize=(12, 6))\n",
    "\n",
    "    ax[0].imshow(pre_image, cmap='gray')\n",
    "    ax[0].set_title('До пожара')\n",
    "\n",
    "    ax[1].imshow(post_image, cmap='gray')\n",
    "    ax[1].set_title('После пожара')\n",
    "\n",
    "    plt.show()\n",
    "    \n",
    "def create_fire_mask(pre_fire_image, post_fire_image):\n",
    "    pre_nbr = pre_fire_image.normalizedDifference(['B8', 'B12'])\n",
    "    post_nbr = post_fire_image.normalizedDifference(['B8', 'B12'])\n",
    "    delta_nbr = pre_nbr.subtract(post_nbr)\n",
    "    fire_mask = delta_nbr.gt(0.1)\n",
    "    return fire_mask"
   ],
   "id": "2694e13fdb99932c",
   "outputs": [
    {
     "data": {
      "text/plain": [
       "<IPython.core.display.HTML object>"
      ],
      "text/html": [
       "\n",
       "            <style>\n",
       "                .geemap-dark {\n",
       "                    --jp-widgets-color: white;\n",
       "                    --jp-widgets-label-color: white;\n",
       "                    --jp-ui-font-color1: white;\n",
       "                    --jp-layout-color2: #454545;\n",
       "                    background-color: #383838;\n",
       "                }\n",
       "\n",
       "                .geemap-dark .jupyter-button {\n",
       "                    --jp-layout-color3: #383838;\n",
       "                }\n",
       "\n",
       "                .geemap-colab {\n",
       "                    background-color: var(--colab-primary-surface-color, white);\n",
       "                }\n",
       "\n",
       "                .geemap-colab .jupyter-button {\n",
       "                    --jp-layout-color3: var(--colab-primary-surface-color, white);\n",
       "                }\n",
       "            </style>\n",
       "            "
      ]
     },
     "metadata": {},
     "output_type": "display_data"
    }
   ],
   "execution_count": 72
  },
  {
   "metadata": {
    "ExecuteTime": {
     "end_time": "2024-09-07T12:39:38.885545Z",
     "start_time": "2024-09-07T12:32:48.284742Z"
    }
   },
   "cell_type": "code",
   "source": [
    "import numpy as np\n",
    "import rasterio\n",
    "import matplotlib.pyplot as plt\n",
    "from sklearn.metrics import matthews_corrcoef\n",
    "from tqdm import tqdm  # Для отображения прогресс-бара\n",
    "\n",
    "ML = 0.00025     # коэффициент масштабирования радиометрии\n",
    "AL = 0.05        # коэффициент смещения радиометрии\n",
    "K1 = 765.0       # калибровочная константа K1\n",
    "K2 = 1275.0      # калибровочная константа K2\n",
    "epsilon = 0.93   # излучательная способность\n",
    "lambda_ir = 10.9 * 10**-6  # длина волны ИК канала (мкм)\n",
    "rho = 1.438 * 10**-2\n",
    "# Определяем функцию для вычисления маски на основе границ\n",
    "def create_mask(green_layer, lst_celsius_normalized, green_border, lst_border):\n",
    "    condition = (green_layer > green_border) & (lst_celsius_normalized > lst_border)\n",
    "    return np.where(condition, 1, 0)\n",
    "\n",
    "# Определяем функцию для вычисления коэффициента Метьюса\n",
    "def calculate_mcc(true_mask, predicted_mask):\n",
    "    return matthews_corrcoef(true_mask.flatten(), predicted_mask.flatten())\n",
    "\n",
    "def find_best_borders(tiff_files, step=0.1, delta=0.05):\n",
    "    best_mcc = -1\n",
    "    best_green_border = None\n",
    "    best_lst_border = None\n",
    "\n",
    "    # Перебор значений green_border и lst_border\n",
    "    for green_border in tqdm(np.arange(0, 1 + step, step), desc=\"Перебор значений green_border\"):\n",
    "        for lst_border in tqdm(np.arange(0, 1 + step, step), desc=\"Перебор значений lst_border\", leave=False):\n",
    "            total_mcc = 0\n",
    "            count = 0\n",
    "\n",
    "            for tiff_file in tiff_files:\n",
    "                with rasterio.open(tiff_file) as dataset:\n",
    "                    # Считываем слои\n",
    "                    infrared_layer = dataset.read(4)\n",
    "                    green_layer = dataset.read(2)\n",
    "                    true_fire_mask = dataset.read(5)\n",
    "                    \n",
    "                    # Преобразуем DN в радиометрическое излучение\n",
    "                    radiance = ML * infrared_layer + AL\n",
    "                    brightness_temp = K2 / (np.log((K1 / radiance) + 1))\n",
    "                    lst = brightness_temp / (1 + (lambda_ir * brightness_temp / rho) * np.log(epsilon))\n",
    "                    lst_celsius = lst - 273.15\n",
    "                    lst_celsius_normalized = (lst_celsius - lst_celsius.min()) / (lst_celsius.max() - lst_celsius.min())\n",
    "                    \n",
    "                    # Создаем маску на основе границ\n",
    "                    final_mask = create_mask(green_layer, lst_celsius_normalized, green_border, lst_border)\n",
    "                    \n",
    "                    # Вычисляем коэффициент Метьюса\n",
    "                    mcc = calculate_mcc(true_fire_mask, final_mask)\n",
    "                    total_mcc += mcc\n",
    "                    count += 1\n",
    "\n",
    "            # Средний коэффициент Метьюса\n",
    "            average_mcc = total_mcc / count\n",
    "\n",
    "            # Проверяем, является ли текущий результат лучшим\n",
    "            if average_mcc > best_mcc:\n",
    "                best_mcc = average_mcc\n",
    "                best_green_border = green_border\n",
    "                best_lst_border = lst_border\n",
    "                print(f\"Улучшение результата: Green Border = {best_green_border}, LST Border = {best_lst_border}, MCC = {best_mcc}\")\n",
    "\n",
    "    # Перебор значений с ±delta от найденных лучших границ\n",
    "    for green_border in [best_green_border + delta, best_green_border, best_green_border - delta]:\n",
    "        for lst_border in [best_lst_border + delta, best_lst_border, best_lst_border - delta]:\n",
    "            total_mcc = 0\n",
    "            count = 0\n",
    "            \n",
    "            for tiff_file in tiff_files:\n",
    "                with rasterio.open(tiff_file) as dataset:\n",
    "                    # Считываем слои\n",
    "                    infrared_layer = dataset.read(4)\n",
    "                    green_layer = dataset.read(2)\n",
    "                    true_fire_mask = dataset.read(5)\n",
    "                    \n",
    "                    # Преобразуем DN в радиометрическое излучение\n",
    "                    radiance = ML * infrared_layer + AL\n",
    "                    brightness_temp = K2 / (np.log((K1 / radiance) + 1))\n",
    "                    lst = brightness_temp / (1 + (lambda_ir * brightness_temp / rho) * np.log(epsilon))\n",
    "                    lst_celsius = lst - 273.15\n",
    "                    lst_celsius_normalized = (lst_celsius - lst_celsius.min()) / (lst_celsius.max() - lst_celsius.min())\n",
    "                    \n",
    "                    # Создаем маску на основе границ\n",
    "                    final_mask = create_mask(green_layer, lst_celsius_normalized, green_border, lst_border)\n",
    "                    \n",
    "                    # Вычисляем коэффициент Метьюса\n",
    "                    mcc = calculate_mcc(true_fire_mask, final_mask)\n",
    "                    total_mcc += mcc\n",
    "                    count += 1\n",
    "\n",
    "            # Средний коэффициент Метьюса\n",
    "            average_mcc = total_mcc / count\n",
    "\n",
    "            # Проверяем, является ли текущий результат лучшим\n",
    "            if average_mcc > best_mcc:\n",
    "                best_mcc = average_mcc\n",
    "                best_green_border = green_border\n",
    "                best_lst_border = lst_border\n",
    "                print(f\"Улучшение результата после уточнения: Green Border = {best_green_border}, LST Border = {best_lst_border}, MCC = {best_mcc}\")\n",
    "\n",
    "    return best_green_border, best_lst_border, best_mcc\n",
    "\n",
    "# Список TIFF файлов\n",
    "tiff_files = [f\"merged/{i:02d}.tiff\" for i in range(21)]\n",
    "\n",
    "# Поиск лучших границ\n",
    "best_green_border, best_lst_border, best_mcc = find_best_borders(tiff_files)\n",
    "\n",
    "print(f\"Best Green Border: {best_green_border}\")\n",
    "print(f\"Best LST Border: {best_lst_border}\")\n",
    "print(f\"Best Matthews Correlation Coefficient: {best_mcc}\")\n"
   ],
   "id": "8c5f590aaec4554d",
   "outputs": [
    {
     "data": {
      "text/plain": [
       "<IPython.core.display.HTML object>"
      ],
      "text/html": [
       "\n",
       "            <style>\n",
       "                .geemap-dark {\n",
       "                    --jp-widgets-color: white;\n",
       "                    --jp-widgets-label-color: white;\n",
       "                    --jp-ui-font-color1: white;\n",
       "                    --jp-layout-color2: #454545;\n",
       "                    background-color: #383838;\n",
       "                }\n",
       "\n",
       "                .geemap-dark .jupyter-button {\n",
       "                    --jp-layout-color3: #383838;\n",
       "                }\n",
       "\n",
       "                .geemap-colab {\n",
       "                    background-color: var(--colab-primary-surface-color, white);\n",
       "                }\n",
       "\n",
       "                .geemap-colab .jupyter-button {\n",
       "                    --jp-layout-color3: var(--colab-primary-surface-color, white);\n",
       "                }\n",
       "            </style>\n",
       "            "
      ]
     },
     "metadata": {},
     "output_type": "display_data"
    },
    {
     "name": "stderr",
     "output_type": "stream",
     "text": [
      "Перебор значений green_border:   0%|          | 0/21 [00:00<?, ?it/s]\n",
      "Перебор значений lst_border:   0%|          | 0/21 [00:00<?, ?it/s]\u001B[A\n",
      "Перебор значений lst_border:   5%|▍         | 1/21 [00:02<00:48,  2.42s/it]\u001B[A"
     ]
    },
    {
     "name": "stdout",
     "output_type": "stream",
     "text": [
      "Улучшение результата: Green Border = 0.0, LST Border = 0.0, MCC = -0.012598909353627582\n"
     ]
    },
    {
     "name": "stderr",
     "output_type": "stream",
     "text": [
      "\n",
      "Перебор значений lst_border:  10%|▉         | 2/21 [00:03<00:35,  1.86s/it]\u001B[A"
     ]
    },
    {
     "name": "stdout",
     "output_type": "stream",
     "text": [
      "Улучшение результата: Green Border = 0.0, LST Border = 0.05, MCC = -0.0073414082301715\n"
     ]
    },
    {
     "name": "stderr",
     "output_type": "stream",
     "text": [
      "\n",
      "Перебор значений lst_border:  14%|█▍        | 3/21 [00:05<00:30,  1.68s/it]\u001B[A\n",
      "Перебор значений lst_border:  19%|█▉        | 4/21 [00:06<00:27,  1.60s/it]\u001B[A\n",
      "Перебор значений lst_border:  24%|██▍       | 5/21 [00:08<00:28,  1.80s/it]\u001B[A\n",
      "Перебор значений lst_border:  29%|██▊       | 6/21 [00:10<00:25,  1.68s/it]\u001B[A\n",
      "Перебор значений lst_border:  33%|███▎      | 7/21 [00:11<00:22,  1.62s/it]\u001B[A\n",
      "Перебор значений lst_border:  38%|███▊      | 8/21 [00:13<00:20,  1.57s/it]\u001B[A"
     ]
    },
    {
     "name": "stdout",
     "output_type": "stream",
     "text": [
      "Улучшение результата: Green Border = 0.0, LST Border = 0.35000000000000003, MCC = 0.003781748891846348\n"
     ]
    },
    {
     "name": "stderr",
     "output_type": "stream",
     "text": [
      "\n",
      "Перебор значений lst_border:  43%|████▎     | 9/21 [00:14<00:18,  1.51s/it]\u001B[A"
     ]
    },
    {
     "name": "stdout",
     "output_type": "stream",
     "text": [
      "Улучшение результата: Green Border = 0.0, LST Border = 0.4, MCC = 0.009421251427252446\n"
     ]
    },
    {
     "name": "stderr",
     "output_type": "stream",
     "text": [
      "\n",
      "Перебор значений lst_border:  48%|████▊     | 10/21 [00:16<00:16,  1.51s/it]\u001B[A"
     ]
    },
    {
     "name": "stdout",
     "output_type": "stream",
     "text": [
      "Улучшение результата: Green Border = 0.0, LST Border = 0.45, MCC = 0.025937256869598125\n"
     ]
    },
    {
     "name": "stderr",
     "output_type": "stream",
     "text": [
      "\n",
      "Перебор значений lst_border:  52%|█████▏    | 11/21 [00:17<00:15,  1.52s/it]\u001B[A"
     ]
    },
    {
     "name": "stdout",
     "output_type": "stream",
     "text": [
      "Улучшение результата: Green Border = 0.0, LST Border = 0.5, MCC = 0.034160633216983025\n"
     ]
    },
    {
     "name": "stderr",
     "output_type": "stream",
     "text": [
      "\n",
      "Перебор значений lst_border:  57%|█████▋    | 12/21 [00:19<00:13,  1.50s/it]\u001B[A"
     ]
    },
    {
     "name": "stdout",
     "output_type": "stream",
     "text": [
      "Улучшение результата: Green Border = 0.0, LST Border = 0.55, MCC = 0.03543340953765905\n"
     ]
    },
    {
     "name": "stderr",
     "output_type": "stream",
     "text": [
      "\n",
      "Перебор значений lst_border:  62%|██████▏   | 13/21 [00:21<00:12,  1.61s/it]\u001B[A\n",
      "Перебор значений lst_border:  67%|██████▋   | 14/21 [00:23<00:13,  1.89s/it]\u001B[A\n",
      "Перебор значений lst_border:  71%|███████▏  | 15/21 [00:25<00:11,  1.84s/it]\u001B[A\n",
      "Перебор значений lst_border:  76%|███████▌  | 16/21 [00:27<00:08,  1.78s/it]\u001B[A\n",
      "Перебор значений lst_border:  81%|████████  | 17/21 [00:28<00:06,  1.69s/it]\u001B[A\n",
      "Перебор значений lst_border:  86%|████████▌ | 18/21 [00:30<00:05,  1.74s/it]\u001B[A\n",
      "Перебор значений lst_border:  90%|█████████ | 19/21 [00:33<00:04,  2.03s/it]\u001B[A\n",
      "Перебор значений lst_border:  95%|█████████▌| 20/21 [00:34<00:01,  1.99s/it]\u001B[A\n",
      "Перебор значений lst_border: 100%|██████████| 21/21 [00:36<00:00,  1.89s/it]\u001B[A\n",
      "Перебор значений green_border:   5%|▍         | 1/21 [00:36<12:13, 36.66s/it][A\n",
      "Перебор значений lst_border:   0%|          | 0/21 [00:00<?, ?it/s]\u001B[A\n",
      "Перебор значений lst_border:   5%|▍         | 1/21 [00:01<00:38,  1.93s/it]\u001B[A\n",
      "Перебор значений lst_border:  10%|▉         | 2/21 [00:04<00:46,  2.45s/it]\u001B[A\n",
      "Перебор значений lst_border:  14%|█▍        | 3/21 [00:06<00:42,  2.34s/it]\u001B[A\n",
      "Перебор значений lst_border:  19%|█▉        | 4/21 [00:08<00:35,  2.12s/it]\u001B[A\n",
      "Перебор значений lst_border:  24%|██▍       | 5/21 [00:10<00:32,  2.00s/it]\u001B[A\n",
      "Перебор значений lst_border:  29%|██▊       | 6/21 [00:12<00:27,  1.84s/it]\u001B[A\n",
      "Перебор значений lst_border:  33%|███▎      | 7/21 [00:13<00:26,  1.87s/it]\u001B[A\n",
      "Перебор значений lst_border:  38%|███▊      | 8/21 [00:15<00:23,  1.84s/it]\u001B[A\n",
      "Перебор значений lst_border:  43%|████▎     | 9/21 [00:17<00:21,  1.77s/it]\u001B[A\n",
      "Перебор значений lst_border:  48%|████▊     | 10/21 [00:19<00:20,  1.83s/it]\u001B[A\n",
      "Перебор значений lst_border:  52%|█████▏    | 11/21 [00:20<00:17,  1.75s/it]\u001B[A\n",
      "Перебор значений lst_border:  57%|█████▋    | 12/21 [00:22<00:15,  1.67s/it]\u001B[A\n",
      "Перебор значений lst_border:  62%|██████▏   | 13/21 [00:23<00:13,  1.65s/it]\u001B[A\n",
      "Перебор значений lst_border:  67%|██████▋   | 14/21 [00:25<00:11,  1.59s/it]\u001B[A\n",
      "Перебор значений lst_border:  71%|███████▏  | 15/21 [00:26<00:09,  1.55s/it]\u001B[A\n",
      "Перебор значений lst_border:  76%|███████▌  | 16/21 [00:28<00:07,  1.58s/it]\u001B[A\n",
      "Перебор значений lst_border:  81%|████████  | 17/21 [00:30<00:06,  1.63s/it]\u001B[A\n",
      "Перебор значений lst_border:  86%|████████▌ | 18/21 [00:32<00:05,  1.67s/it]\u001B[A\n",
      "Перебор значений lst_border:  90%|█████████ | 19/21 [00:33<00:03,  1.73s/it]\u001B[A\n",
      "Перебор значений lst_border:  95%|█████████▌| 20/21 [00:35<00:01,  1.64s/it]\u001B[A\n",
      "Перебор значений lst_border: 100%|██████████| 21/21 [00:36<00:00,  1.57s/it]\u001B[A\n",
      "Перебор значений green_border:  10%|▉         | 2/21 [01:13<11:38, 36.74s/it][A\n",
      "Перебор значений lst_border:   0%|          | 0/21 [00:00<?, ?it/s]\u001B[A\n",
      "Перебор значений lst_border:   5%|▍         | 1/21 [00:01<00:29,  1.46s/it]\u001B[A\n",
      "Перебор значений lst_border:  10%|▉         | 2/21 [00:03<00:32,  1.71s/it]\u001B[A\n",
      "Перебор значений lst_border:  14%|█▍        | 3/21 [00:05<00:35,  1.97s/it]\u001B[A\n",
      "Перебор значений lst_border:  19%|█▉        | 4/21 [00:07<00:32,  1.91s/it]\u001B[A\n",
      "Перебор значений lst_border:  24%|██▍       | 5/21 [00:09<00:31,  1.97s/it]\u001B[A\n",
      "Перебор значений lst_border:  29%|██▊       | 6/21 [00:11<00:30,  2.03s/it]\u001B[A\n",
      "Перебор значений lst_border:  33%|███▎      | 7/21 [00:14<00:29,  2.13s/it]\u001B[A\n",
      "Перебор значений lst_border:  38%|███▊      | 8/21 [00:16<00:30,  2.37s/it]\u001B[A\n",
      "Перебор значений lst_border:  43%|████▎     | 9/21 [00:18<00:26,  2.19s/it]\u001B[A\n",
      "Перебор значений lst_border:  48%|████▊     | 10/21 [00:20<00:23,  2.15s/it]\u001B[A\n",
      "Перебор значений lst_border:  52%|█████▏    | 11/21 [00:22<00:20,  2.06s/it]\u001B[A\n",
      "Перебор значений lst_border:  57%|█████▋    | 12/21 [00:24<00:17,  1.91s/it]\u001B[A\n",
      "Перебор значений lst_border:  62%|██████▏   | 13/21 [00:25<00:14,  1.77s/it]\u001B[A\n",
      "Перебор значений lst_border:  67%|██████▋   | 14/21 [00:27<00:12,  1.76s/it]\u001B[A\n",
      "Перебор значений lst_border:  71%|███████▏  | 15/21 [00:29<00:10,  1.76s/it]\u001B[A\n",
      "Перебор значений lst_border:  76%|███████▌  | 16/21 [00:30<00:08,  1.78s/it]\u001B[A\n",
      "Перебор значений lst_border:  81%|████████  | 17/21 [00:32<00:07,  1.79s/it]\u001B[A\n",
      "Перебор значений lst_border:  86%|████████▌ | 18/21 [00:34<00:05,  1.77s/it]\u001B[A\n",
      "Перебор значений lst_border:  90%|█████████ | 19/21 [00:36<00:03,  1.88s/it]\u001B[A\n",
      "Перебор значений lst_border:  95%|█████████▌| 20/21 [00:38<00:01,  1.82s/it]\u001B[A\n",
      "Перебор значений lst_border: 100%|██████████| 21/21 [00:40<00:00,  1.81s/it]\u001B[A\n",
      "Перебор значений green_border:  14%|█▍        | 3/21 [01:53<11:28, 38.27s/it][A\n",
      "Перебор значений lst_border:   0%|          | 0/21 [00:00<?, ?it/s]\u001B[A\n",
      "Перебор значений lst_border:   5%|▍         | 1/21 [00:01<00:32,  1.62s/it]\u001B[A\n",
      "Перебор значений lst_border:  10%|▉         | 2/21 [00:03<00:32,  1.71s/it]\u001B[A\n",
      "Перебор значений lst_border:  14%|█▍        | 3/21 [00:05<00:33,  1.84s/it]\u001B[A\n",
      "Перебор значений lst_border:  19%|█▉        | 4/21 [00:07<00:33,  1.99s/it]\u001B[A\n",
      "Перебор значений lst_border:  24%|██▍       | 5/21 [00:10<00:34,  2.15s/it]\u001B[A\n",
      "Перебор значений lst_border:  29%|██▊       | 6/21 [00:12<00:33,  2.23s/it]\u001B[A\n",
      "Перебор значений lst_border:  33%|███▎      | 7/21 [00:14<00:30,  2.19s/it]\u001B[A\n",
      "Перебор значений lst_border:  38%|███▊      | 8/21 [00:16<00:27,  2.14s/it]\u001B[A\n",
      "Перебор значений lst_border:  43%|████▎     | 9/21 [00:19<00:26,  2.23s/it]\u001B[A\n",
      "Перебор значений lst_border:  48%|████▊     | 10/21 [00:20<00:22,  2.05s/it]\u001B[A\n",
      "Перебор значений lst_border:  52%|█████▏    | 11/21 [00:22<00:20,  2.08s/it]\u001B[A\n",
      "Перебор значений lst_border:  57%|█████▋    | 12/21 [00:25<00:19,  2.20s/it]\u001B[A\n",
      "Перебор значений lst_border:  62%|██████▏   | 13/21 [00:27<00:17,  2.18s/it]\u001B[A\n",
      "Перебор значений lst_border:  67%|██████▋   | 14/21 [00:29<00:14,  2.03s/it]\u001B[A\n",
      "Перебор значений lst_border:  71%|███████▏  | 15/21 [00:30<00:11,  1.92s/it]\u001B[A\n",
      "Перебор значений lst_border:  76%|███████▌  | 16/21 [00:32<00:09,  1.84s/it]\u001B[A\n",
      "Перебор значений lst_border:  81%|████████  | 17/21 [00:34<00:07,  1.88s/it]\u001B[A\n",
      "Перебор значений lst_border:  86%|████████▌ | 18/21 [00:37<00:06,  2.31s/it]\u001B[A\n",
      "Перебор значений lst_border:  90%|█████████ | 19/21 [00:40<00:05,  2.56s/it]\u001B[A\n",
      "Перебор значений lst_border:  95%|█████████▌| 20/21 [00:44<00:02,  2.80s/it]\u001B[A\n",
      "Перебор значений lst_border: 100%|██████████| 21/21 [00:47<00:00,  2.90s/it]\u001B[A\n",
      "Перебор значений green_border:  19%|█▉        | 4/21 [02:40<11:51, 41.84s/it][A\n",
      "Перебор значений lst_border:   0%|          | 0/21 [00:00<?, ?it/s]\u001B[A\n",
      "Перебор значений lst_border:   5%|▍         | 1/21 [00:03<01:06,  3.31s/it]\u001B[A\n",
      "Перебор значений lst_border:  10%|▉         | 2/21 [00:06<01:02,  3.30s/it]\u001B[A\n",
      "Перебор значений lst_border:  14%|█▍        | 3/21 [00:09<00:57,  3.17s/it]\u001B[A\n",
      "Перебор значений lst_border:  19%|█▉        | 4/21 [00:12<00:55,  3.24s/it]\u001B[A\n",
      "Перебор значений lst_border:  24%|██▍       | 5/21 [00:16<00:54,  3.39s/it]\u001B[A\n",
      "Перебор значений lst_border:  29%|██▊       | 6/21 [00:20<00:51,  3.45s/it]\u001B[A\n",
      "Перебор значений lst_border:  33%|███▎      | 7/21 [00:24<00:51,  3.64s/it]\u001B[A\n",
      "Перебор значений lst_border:  38%|███▊      | 8/21 [00:28<00:48,  3.71s/it]\u001B[A\n",
      "Перебор значений lst_border:  43%|████▎     | 9/21 [00:31<00:44,  3.69s/it]\u001B[A\n",
      "Перебор значений lst_border:  48%|████▊     | 10/21 [00:35<00:40,  3.72s/it]\u001B[A\n",
      "Перебор значений lst_border:  52%|█████▏    | 11/21 [00:39<00:37,  3.71s/it]\u001B[A\n",
      "Перебор значений lst_border:  57%|█████▋    | 12/21 [00:42<00:33,  3.68s/it]\u001B[A\n",
      "Перебор значений lst_border:  62%|██████▏   | 13/21 [00:46<00:29,  3.68s/it]\u001B[A\n",
      "Перебор значений lst_border:  67%|██████▋   | 14/21 [00:50<00:25,  3.69s/it]\u001B[A\n",
      "Перебор значений lst_border:  71%|███████▏  | 15/21 [00:53<00:21,  3.56s/it]\u001B[A\n",
      "Перебор значений lst_border:  76%|███████▌  | 16/21 [00:57<00:17,  3.57s/it]\u001B[A\n",
      "Перебор значений lst_border:  81%|████████  | 17/21 [01:00<00:14,  3.57s/it]\u001B[A\n",
      "Перебор значений lst_border:  86%|████████▌ | 18/21 [01:04<00:10,  3.55s/it]\u001B[A\n",
      "Перебор значений lst_border:  90%|█████████ | 19/21 [01:07<00:07,  3.51s/it]\u001B[A\n",
      "Перебор значений lst_border:  95%|█████████▌| 20/21 [01:10<00:03,  3.47s/it]\u001B[A\n",
      "Перебор значений lst_border: 100%|██████████| 21/21 [01:14<00:00,  3.46s/it]\u001B[A\n",
      "Перебор значений green_border:  24%|██▍       | 5/21 [03:55<14:17, 53.58s/it][A\n",
      "Перебор значений lst_border:   0%|          | 0/21 [00:00<?, ?it/s]\u001B[A\n",
      "Перебор значений lst_border:   5%|▍         | 1/21 [00:04<01:20,  4.02s/it]\u001B[A\n",
      "Перебор значений lst_border:  10%|▉         | 2/21 [00:08<01:17,  4.09s/it]\u001B[A\n",
      "Перебор значений lst_border:  14%|█▍        | 3/21 [00:11<01:07,  3.75s/it]\u001B[A\n",
      "Перебор значений lst_border:  19%|█▉        | 4/21 [00:16<01:10,  4.15s/it]\u001B[A\n",
      "Перебор значений lst_border:  24%|██▍       | 5/21 [00:20<01:08,  4.29s/it]\u001B[A\n",
      "Перебор значений lst_border:  29%|██▊       | 6/21 [00:24<01:03,  4.25s/it]\u001B[A\n",
      "Перебор значений lst_border:  33%|███▎      | 7/21 [00:28<00:56,  4.06s/it]\u001B[A\n",
      "Перебор значений lst_border:  38%|███▊      | 8/21 [00:32<00:51,  3.92s/it]\u001B[A\n",
      "Перебор значений lst_border:  43%|████▎     | 9/21 [00:36<00:46,  3.91s/it]\u001B[A\n",
      "Перебор значений lst_border:  48%|████▊     | 10/21 [00:39<00:41,  3.79s/it]\u001B[A\n",
      "Перебор значений lst_border:  52%|█████▏    | 11/21 [00:43<00:37,  3.79s/it]\u001B[A\n",
      "Перебор значений lst_border:  57%|█████▋    | 12/21 [00:46<00:32,  3.65s/it]\u001B[A\n",
      "Перебор значений lst_border:  62%|██████▏   | 13/21 [00:50<00:28,  3.54s/it]\u001B[A\n",
      "Перебор значений lst_border:  67%|██████▋   | 14/21 [00:53<00:24,  3.56s/it]\u001B[A\n",
      "Перебор значений lst_border:  71%|███████▏  | 15/21 [00:57<00:21,  3.51s/it]\u001B[A\n",
      "Перебор значений lst_border:  76%|███████▌  | 16/21 [01:00<00:17,  3.58s/it]\u001B[A\n",
      "Перебор значений lst_border:  81%|████████  | 17/21 [01:03<00:12,  3.23s/it]\u001B[A\n",
      "Перебор значений lst_border:  86%|████████▌ | 18/21 [01:05<00:08,  2.99s/it]\u001B[A\n",
      "Перебор значений lst_border:  90%|█████████ | 19/21 [01:07<00:04,  2.50s/it]\u001B[A\n",
      "Перебор значений lst_border:  95%|█████████▌| 20/21 [01:08<00:02,  2.13s/it]\u001B[A\n",
      "Перебор значений lst_border: 100%|██████████| 21/21 [01:09<00:00,  1.87s/it]\u001B[A\n",
      "Перебор значений green_border:  29%|██▊       | 6/21 [05:04<14:45, 59.02s/it][A\n",
      "Перебор значений lst_border:   0%|          | 0/21 [00:00<?, ?it/s]\u001B[A\n",
      "Перебор значений lst_border:   5%|▍         | 1/21 [00:01<00:25,  1.27s/it]\u001B[A\n",
      "Перебор значений lst_border:  10%|▉         | 2/21 [00:02<00:24,  1.30s/it]\u001B[A\n",
      "Перебор значений lst_border:  14%|█▍        | 3/21 [00:03<00:22,  1.27s/it]\u001B[A\n",
      "Перебор значений lst_border:  19%|█▉        | 4/21 [00:05<00:21,  1.26s/it]\u001B[A\n",
      "Перебор значений lst_border:  24%|██▍       | 5/21 [00:06<00:20,  1.27s/it]\u001B[A\n",
      "Перебор значений lst_border:  29%|██▊       | 6/21 [00:07<00:19,  1.28s/it]\u001B[A\n",
      "Перебор значений lst_border:  33%|███▎      | 7/21 [00:08<00:17,  1.27s/it]\u001B[A\n",
      "Перебор значений lst_border:  38%|███▊      | 8/21 [00:10<00:16,  1.25s/it]\u001B[A\n",
      "Перебор значений lst_border:  43%|████▎     | 9/21 [00:11<00:15,  1.26s/it]\u001B[A\n",
      "Перебор значений lst_border:  48%|████▊     | 10/21 [00:12<00:13,  1.27s/it]\u001B[A\n",
      "Перебор значений lst_border:  52%|█████▏    | 11/21 [00:13<00:12,  1.26s/it]\u001B[A\n",
      "Перебор значений lst_border:  57%|█████▋    | 12/21 [00:15<00:11,  1.29s/it]\u001B[A\n",
      "Перебор значений lst_border:  62%|██████▏   | 13/21 [00:16<00:10,  1.28s/it]\u001B[A\n",
      "Перебор значений lst_border:  67%|██████▋   | 14/21 [00:17<00:08,  1.28s/it]\u001B[A\n",
      "Перебор значений lst_border:  71%|███████▏  | 15/21 [00:19<00:07,  1.28s/it]\u001B[A\n",
      "Перебор значений lst_border:  76%|███████▌  | 16/21 [00:20<00:06,  1.29s/it]\u001B[A\n",
      "Перебор значений lst_border:  81%|████████  | 17/21 [00:21<00:05,  1.28s/it]\u001B[A\n",
      "Перебор значений lst_border:  86%|████████▌ | 18/21 [00:22<00:03,  1.25s/it]\u001B[A\n",
      "Перебор значений lst_border:  90%|█████████ | 19/21 [00:24<00:02,  1.25s/it]\u001B[A\n",
      "Перебор значений lst_border:  95%|█████████▌| 20/21 [00:25<00:01,  1.24s/it]\u001B[A\n",
      "Перебор значений lst_border: 100%|██████████| 21/21 [00:26<00:00,  1.23s/it]\u001B[A\n",
      "Перебор значений green_border:  33%|███▎      | 7/21 [05:31<11:17, 48.41s/it][A\n",
      "Перебор значений lst_border:   0%|          | 0/21 [00:00<?, ?it/s]\u001B[A\n",
      "Перебор значений lst_border:   5%|▍         | 1/21 [00:01<00:24,  1.21s/it]\u001B[A\n",
      "Перебор значений lst_border:  10%|▉         | 2/21 [00:02<00:23,  1.24s/it]\u001B[A\n",
      "Перебор значений lst_border:  14%|█▍        | 3/21 [00:03<00:22,  1.23s/it]\u001B[A\n",
      "Перебор значений lst_border:  19%|█▉        | 4/21 [00:04<00:20,  1.22s/it]\u001B[A\n",
      "Перебор значений lst_border:  24%|██▍       | 5/21 [00:06<00:19,  1.21s/it]\u001B[A\n",
      "Перебор значений lst_border:  29%|██▊       | 6/21 [00:07<00:18,  1.22s/it]\u001B[A\n",
      "Перебор значений lst_border:  33%|███▎      | 7/21 [00:08<00:17,  1.23s/it]\u001B[A\n",
      "Перебор значений lst_border:  38%|███▊      | 8/21 [00:09<00:16,  1.24s/it]\u001B[A\n",
      "Перебор значений lst_border:  43%|████▎     | 9/21 [00:11<00:15,  1.25s/it]\u001B[A\n",
      "Перебор значений lst_border:  48%|████▊     | 10/21 [00:12<00:13,  1.24s/it]\u001B[A\n",
      "Перебор значений lst_border:  52%|█████▏    | 11/21 [00:13<00:12,  1.26s/it]\u001B[A\n",
      "Перебор значений lst_border:  57%|█████▋    | 12/21 [00:14<00:11,  1.25s/it]\u001B[A\n",
      "Перебор значений lst_border:  62%|██████▏   | 13/21 [00:16<00:10,  1.26s/it]\u001B[A\n",
      "Перебор значений lst_border:  67%|██████▋   | 14/21 [00:17<00:08,  1.25s/it]\u001B[A\n",
      "Перебор значений lst_border:  71%|███████▏  | 15/21 [00:18<00:07,  1.28s/it]\u001B[A\n",
      "Перебор значений lst_border:  76%|███████▌  | 16/21 [00:19<00:06,  1.26s/it]\u001B[A\n",
      "Перебор значений lst_border:  81%|████████  | 17/21 [00:21<00:04,  1.24s/it]\u001B[A\n",
      "Перебор значений lst_border:  86%|████████▌ | 18/21 [00:22<00:03,  1.24s/it]\u001B[A\n",
      "Перебор значений lst_border:  90%|█████████ | 19/21 [00:23<00:02,  1.23s/it]\u001B[A\n",
      "Перебор значений lst_border:  95%|█████████▌| 20/21 [00:24<00:01,  1.23s/it]\u001B[A\n",
      "Перебор значений lst_border: 100%|██████████| 21/21 [00:26<00:00,  1.22s/it]\u001B[A\n",
      "Перебор значений green_border:  38%|███▊      | 8/21 [05:57<08:56, 41.28s/it][A\n",
      "Перебор значений lst_border:   0%|          | 0/21 [00:00<?, ?it/s]\u001B[A\n",
      "Перебор значений lst_border:   5%|▍         | 1/21 [00:01<00:24,  1.24s/it]\u001B[A\n",
      "Перебор значений lst_border:  10%|▉         | 2/21 [00:02<00:23,  1.23s/it]\u001B[A\n",
      "Перебор значений lst_border:  14%|█▍        | 3/21 [00:03<00:22,  1.23s/it]\u001B[A\n",
      "Перебор значений lst_border:  19%|█▉        | 4/21 [00:04<00:20,  1.23s/it]\u001B[A\n",
      "Перебор значений lst_border:  24%|██▍       | 5/21 [00:06<00:19,  1.23s/it]\u001B[A\n",
      "Перебор значений lst_border:  29%|██▊       | 6/21 [00:07<00:18,  1.24s/it]\u001B[A\n",
      "Перебор значений lst_border:  33%|███▎      | 7/21 [00:08<00:17,  1.24s/it]\u001B[A\n",
      "Перебор значений lst_border:  38%|███▊      | 8/21 [00:09<00:16,  1.25s/it]\u001B[A\n",
      "Перебор значений lst_border:  43%|████▎     | 9/21 [00:11<00:15,  1.27s/it]\u001B[A\n",
      "Перебор значений lst_border:  48%|████▊     | 10/21 [00:12<00:14,  1.28s/it]\u001B[A\n",
      "Перебор значений lst_border:  52%|█████▏    | 11/21 [00:13<00:12,  1.28s/it]\u001B[A\n",
      "Перебор значений lst_border:  57%|█████▋    | 12/21 [00:15<00:11,  1.28s/it]\u001B[A\n",
      "Перебор значений lst_border:  62%|██████▏   | 13/21 [00:16<00:10,  1.28s/it]\u001B[A\n",
      "Перебор значений lst_border:  67%|██████▋   | 14/21 [00:17<00:08,  1.28s/it]\u001B[A\n",
      "Перебор значений lst_border:  71%|███████▏  | 15/21 [00:18<00:07,  1.27s/it]\u001B[A\n",
      "Перебор значений lst_border:  76%|███████▌  | 16/21 [00:20<00:06,  1.27s/it]\u001B[A\n",
      "Перебор значений lst_border:  81%|████████  | 17/21 [00:21<00:05,  1.27s/it]\u001B[A\n",
      "Перебор значений lst_border:  86%|████████▌ | 18/21 [00:22<00:03,  1.27s/it]\u001B[A\n",
      "Перебор значений lst_border:  90%|█████████ | 19/21 [00:23<00:02,  1.26s/it]\u001B[A\n",
      "Перебор значений lst_border:  95%|█████████▌| 20/21 [00:25<00:01,  1.26s/it]\u001B[A\n",
      "Перебор значений lst_border: 100%|██████████| 21/21 [00:26<00:00,  1.25s/it]\u001B[A\n",
      "Перебор значений green_border:  43%|████▎     | 9/21 [06:23<07:19, 36.64s/it][A\n",
      "Перебор значений lst_border:   0%|          | 0/21 [00:00<?, ?it/s]\u001B[A\n",
      "Перебор значений lst_border:   5%|▍         | 1/21 [00:01<00:25,  1.30s/it]\u001B[A\n",
      "Перебор значений lst_border:  10%|▉         | 2/21 [00:02<00:24,  1.28s/it]\u001B[A\n",
      "Перебор значений lst_border:  14%|█▍        | 3/21 [00:03<00:23,  1.29s/it]\u001B[A\n",
      "Перебор значений lst_border:  19%|█▉        | 4/21 [00:05<00:21,  1.26s/it]\u001B[A\n",
      "Перебор значений lst_border:  24%|██▍       | 5/21 [00:06<00:20,  1.26s/it]\u001B[A\n",
      "Перебор значений lst_border:  29%|██▊       | 6/21 [00:07<00:18,  1.25s/it]\u001B[A\n",
      "Перебор значений lst_border:  33%|███▎      | 7/21 [00:08<00:17,  1.25s/it]\u001B[A\n",
      "Перебор значений lst_border:  38%|███▊      | 8/21 [00:10<00:16,  1.24s/it]\u001B[A\n",
      "Перебор значений lst_border:  43%|████▎     | 9/21 [00:11<00:14,  1.24s/it]\u001B[A\n",
      "Перебор значений lst_border:  48%|████▊     | 10/21 [00:12<00:13,  1.24s/it]\u001B[A\n",
      "Перебор значений lst_border:  52%|█████▏    | 11/21 [00:13<00:12,  1.23s/it]\u001B[A\n",
      "Перебор значений lst_border:  57%|█████▋    | 12/21 [00:14<00:11,  1.24s/it]\u001B[A\n",
      "Перебор значений lst_border:  62%|██████▏   | 13/21 [00:16<00:09,  1.25s/it]\u001B[A\n",
      "Перебор значений lst_border:  67%|██████▋   | 14/21 [00:17<00:08,  1.28s/it]\u001B[A\n",
      "Перебор значений lst_border:  71%|███████▏  | 15/21 [00:18<00:07,  1.30s/it]\u001B[A\n",
      "Перебор значений lst_border:  76%|███████▌  | 16/21 [00:20<00:06,  1.32s/it]\u001B[A\n",
      "Перебор значений lst_border:  81%|████████  | 17/21 [00:21<00:05,  1.32s/it]\u001B[A\n",
      "Перебор значений lst_border:  86%|████████▌ | 18/21 [00:22<00:03,  1.33s/it]\u001B[A\n",
      "Перебор значений lst_border:  90%|█████████ | 19/21 [00:24<00:02,  1.34s/it]\u001B[A\n",
      "Перебор значений lst_border:  95%|█████████▌| 20/21 [00:25<00:01,  1.37s/it]\u001B[A\n",
      "Перебор значений green_border:  43%|████▎     | 9/21 [06:50<09:07, 45.62s/it][A\n"
     ]
    },
    {
     "ename": "KeyboardInterrupt",
     "evalue": "",
     "output_type": "error",
     "traceback": [
      "\u001B[1;31m---------------------------------------------------------------------------\u001B[0m",
      "\u001B[1;31mKeyboardInterrupt\u001B[0m                         Traceback (most recent call last)",
      "Cell \u001B[1;32mIn[129], line 75\u001B[0m\n\u001B[0;32m     72\u001B[0m tiff_files \u001B[38;5;241m=\u001B[39m [\u001B[38;5;124mf\u001B[39m\u001B[38;5;124m\"\u001B[39m\u001B[38;5;124mmerged/\u001B[39m\u001B[38;5;132;01m{\u001B[39;00mi\u001B[38;5;132;01m:\u001B[39;00m\u001B[38;5;124m02d\u001B[39m\u001B[38;5;132;01m}\u001B[39;00m\u001B[38;5;124m.tiff\u001B[39m\u001B[38;5;124m\"\u001B[39m \u001B[38;5;28;01mfor\u001B[39;00m i \u001B[38;5;129;01min\u001B[39;00m \u001B[38;5;28mrange\u001B[39m(\u001B[38;5;241m21\u001B[39m)]\n\u001B[0;32m     74\u001B[0m \u001B[38;5;66;03m# Поиск лучших границ\u001B[39;00m\n\u001B[1;32m---> 75\u001B[0m best_green_border, best_lst_border, best_mcc \u001B[38;5;241m=\u001B[39m \u001B[43mfind_best_borders\u001B[49m\u001B[43m(\u001B[49m\u001B[43mtiff_files\u001B[49m\u001B[43m)\u001B[49m\n\u001B[0;32m     77\u001B[0m \u001B[38;5;28mprint\u001B[39m(\u001B[38;5;124mf\u001B[39m\u001B[38;5;124m\"\u001B[39m\u001B[38;5;124mBest Green Border: \u001B[39m\u001B[38;5;132;01m{\u001B[39;00mbest_green_border\u001B[38;5;132;01m}\u001B[39;00m\u001B[38;5;124m\"\u001B[39m)\n\u001B[0;32m     78\u001B[0m \u001B[38;5;28mprint\u001B[39m(\u001B[38;5;124mf\u001B[39m\u001B[38;5;124m\"\u001B[39m\u001B[38;5;124mBest LST Border: \u001B[39m\u001B[38;5;132;01m{\u001B[39;00mbest_lst_border\u001B[38;5;132;01m}\u001B[39;00m\u001B[38;5;124m\"\u001B[39m)\n",
      "Cell \u001B[1;32mIn[129], line 49\u001B[0m, in \u001B[0;36mfind_best_borders\u001B[1;34m(tiff_files, step)\u001B[0m\n\u001B[0;32m     47\u001B[0m lst \u001B[38;5;241m=\u001B[39m brightness_temp \u001B[38;5;241m/\u001B[39m (\u001B[38;5;241m1\u001B[39m \u001B[38;5;241m+\u001B[39m (lambda_ir \u001B[38;5;241m*\u001B[39m brightness_temp \u001B[38;5;241m/\u001B[39m rho) \u001B[38;5;241m*\u001B[39m np\u001B[38;5;241m.\u001B[39mlog(epsilon))\n\u001B[0;32m     48\u001B[0m lst_celsius \u001B[38;5;241m=\u001B[39m lst \u001B[38;5;241m-\u001B[39m \u001B[38;5;241m273.15\u001B[39m\n\u001B[1;32m---> 49\u001B[0m lst_celsius_normalized \u001B[38;5;241m=\u001B[39m (lst_celsius \u001B[38;5;241m-\u001B[39m \u001B[43mlst_celsius\u001B[49m\u001B[38;5;241;43m.\u001B[39;49m\u001B[43mmin\u001B[49m\u001B[43m(\u001B[49m\u001B[43m)\u001B[49m) \u001B[38;5;241m/\u001B[39m (lst_celsius\u001B[38;5;241m.\u001B[39mmax() \u001B[38;5;241m-\u001B[39m lst_celsius\u001B[38;5;241m.\u001B[39mmin())\n\u001B[0;32m     51\u001B[0m \u001B[38;5;66;03m# Создаем маску на основе границ\u001B[39;00m\n\u001B[0;32m     52\u001B[0m final_mask \u001B[38;5;241m=\u001B[39m create_mask(green_layer, lst_celsius_normalized, green_border, lst_border)\n",
      "File \u001B[1;32mC:\\python\\insidedataomsk\\.venv\\Lib\\site-packages\\numpy\\_core\\_methods.py:47\u001B[0m, in \u001B[0;36m_amin\u001B[1;34m(a, axis, out, keepdims, initial, where)\u001B[0m\n\u001B[0;32m     43\u001B[0m \u001B[38;5;28;01mdef\u001B[39;00m \u001B[38;5;21m_amax\u001B[39m(a, axis\u001B[38;5;241m=\u001B[39m\u001B[38;5;28;01mNone\u001B[39;00m, out\u001B[38;5;241m=\u001B[39m\u001B[38;5;28;01mNone\u001B[39;00m, keepdims\u001B[38;5;241m=\u001B[39m\u001B[38;5;28;01mFalse\u001B[39;00m,\n\u001B[0;32m     44\u001B[0m           initial\u001B[38;5;241m=\u001B[39m_NoValue, where\u001B[38;5;241m=\u001B[39m\u001B[38;5;28;01mTrue\u001B[39;00m):\n\u001B[0;32m     45\u001B[0m     \u001B[38;5;28;01mreturn\u001B[39;00m umr_maximum(a, axis, \u001B[38;5;28;01mNone\u001B[39;00m, out, keepdims, initial, where)\n\u001B[1;32m---> 47\u001B[0m \u001B[38;5;28;01mdef\u001B[39;00m \u001B[38;5;21m_amin\u001B[39m(a, axis\u001B[38;5;241m=\u001B[39m\u001B[38;5;28;01mNone\u001B[39;00m, out\u001B[38;5;241m=\u001B[39m\u001B[38;5;28;01mNone\u001B[39;00m, keepdims\u001B[38;5;241m=\u001B[39m\u001B[38;5;28;01mFalse\u001B[39;00m,\n\u001B[0;32m     48\u001B[0m           initial\u001B[38;5;241m=\u001B[39m_NoValue, where\u001B[38;5;241m=\u001B[39m\u001B[38;5;28;01mTrue\u001B[39;00m):\n\u001B[0;32m     49\u001B[0m     \u001B[38;5;28;01mreturn\u001B[39;00m umr_minimum(a, axis, \u001B[38;5;28;01mNone\u001B[39;00m, out, keepdims, initial, where)\n\u001B[0;32m     51\u001B[0m \u001B[38;5;28;01mdef\u001B[39;00m \u001B[38;5;21m_sum\u001B[39m(a, axis\u001B[38;5;241m=\u001B[39m\u001B[38;5;28;01mNone\u001B[39;00m, dtype\u001B[38;5;241m=\u001B[39m\u001B[38;5;28;01mNone\u001B[39;00m, out\u001B[38;5;241m=\u001B[39m\u001B[38;5;28;01mNone\u001B[39;00m, keepdims\u001B[38;5;241m=\u001B[39m\u001B[38;5;28;01mFalse\u001B[39;00m,\n\u001B[0;32m     52\u001B[0m          initial\u001B[38;5;241m=\u001B[39m_NoValue, where\u001B[38;5;241m=\u001B[39m\u001B[38;5;28;01mTrue\u001B[39;00m):\n",
      "\u001B[1;31mKeyboardInterrupt\u001B[0m: "
     ]
    }
   ],
   "execution_count": 129
  }
 ],
 "metadata": {
  "kernelspec": {
   "display_name": "Python 3",
   "language": "python",
   "name": "python3"
  },
  "language_info": {
   "codemirror_mode": {
    "name": "ipython",
    "version": 2
   },
   "file_extension": ".py",
   "mimetype": "text/x-python",
   "name": "python",
   "nbconvert_exporter": "python",
   "pygments_lexer": "ipython2",
   "version": "2.7.6"
  }
 },
 "nbformat": 4,
 "nbformat_minor": 5
}
